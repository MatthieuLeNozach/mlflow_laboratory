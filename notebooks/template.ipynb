{
 "cells": [
  {
   "cell_type": "markdown",
   "metadata": {},
   "source": [
    "> ### **MLFLow-laboratory**\n",
    "> \n",
    "> \n",
    "> #### **a. Choose a model**\n",
    "> All scikit-learn models are available with one single import at `project_root/lib/models/sklearn.py`\n",
    "> ```py\n",
    "> # Import a model with:\n",
    "> from lib.models.sklearn import RandomForestClassifier\n",
    "> rfc = RandomForestClassifier()*\n",
    ">\n",
    "> # Or import all classes in a dict at once with:\n",
    "> from lib.models.sklearn import SKLEARN_CLASSIFIERS\n",
    "> # ... and instantiate them with:\n",
    "> rfc = SKLEARN_CLASSIFIERS['RandomForestClassisier'](bootstrap=True)\n",
    "> svc = SKLEARN_CLASSIFIERS['SVC']()\n",
    "> ```\n",
    "> #### **b. Select hyperparameters**\n",
    "> Automatic hyperparameter tuning is performed with Optuna library,\n",
    "> More information is available at [https://optuna.readthedocs.io/](https://optuna.readthedocs.io/en/stable/tutorial/index.html).  \n",
    "> \n",
    "> **WIP** An hyperparameter bank is being built, see at `project_root/lib/hp/...`\n",
    "> The goal is to store their name, a range if they are numerical or a list of choices.  \n",
    "> Here's an example:\n",
    "> ```py\n",
    "> # Hyperparameters for RandomForestClassifier\n",
    "> RFC_SPACE = {\n",
    ">     'classifier__n_estimators': (20, 200),\n",
    ">     'classifier__max_depth': (10, 100),\n",
    ">     'classifier__min_samples_split': (2, 20),\n",
    ">     'classifier__min_samples_leaf': (1, 2),\n",
    ">     'classifier__max_features': ['sqrt', 'log2', None],\n",
    ">     'classifier__criterion': ['gini', 'entropy'],\n",
    "> }\n",
    "> ```\n",
    "> Hyperparameter naming convention is `XXXC_SPACE` (ex `KNNC_SPACE`) for classification, / XXXR_SPACE (ex `RFR_SPACE`) for regression.  \n",
    "> \n",
    ">  Load hyperparameters:\n",
    "> ```bash\n",
    "> # Enable custom magics\n",
    "> %load_ext custom_magics\n",
    "> # load a set of hyperparameters\n",
    "> %load_variables ../lib/hp/sklearn.py RFC_SPACE\n",
    "> ```\n",
    "> #### **a. Retrieve scripts**\n",
    "> \n",
    "> Paste and execute one of these commands into a code cell to retrieve a mlflow script:\n",
    "> \n",
    "> **Classification**  \n",
    "> - Binary: `%load ../scripts/binary_classification.py`\n",
    "> \n",
    "> **Regression**  \n",
    "> - #TODO\n",
    "\n"
   ]
  },
  {
   "cell_type": "markdown",
   "metadata": {},
   "source": [
    "#### **Base config**"
   ]
  },
  {
   "cell_type": "code",
   "execution_count": null,
   "metadata": {},
   "outputs": [],
   "source": [
    "# CONFIG\n",
    "import sys\n",
    "sys.path.append('..')"
   ]
  },
  {
   "cell_type": "markdown",
   "metadata": {},
   "source": [
    "#### **Load the model**"
   ]
  },
  {
   "cell_type": "code",
   "execution_count": null,
   "metadata": {},
   "outputs": [],
   "source": [
    "# LOAD THE MODEL\n",
    "from lib.models.sklearn import SKLEARN_CLSSIFIERS\n",
    "rfc = SKLEARN_CLSSIFIERS['RandomForestClassifier'](bootstrap=False)"
   ]
  },
  {
   "cell_type": "markdown",
   "metadata": {},
   "source": [
    "#### **Load hyperparameters**"
   ]
  },
  {
   "cell_type": "code",
   "execution_count": null,
   "metadata": {},
   "outputs": [
    {
     "name": "stdout",
     "output_type": "stream",
     "text": [
      "The custom_magics module is not an IPython extension.\n"
     ]
    }
   ],
   "source": [
    "%load_ext custom_magics"
   ]
  },
  {
   "cell_type": "code",
   "execution_count": null,
   "metadata": {},
   "outputs": [],
   "source": [
    "%load_variables lib/hp/sklearn.py RFC_SPACE\n"
   ]
  },
  {
   "cell_type": "markdown",
   "metadata": {},
   "source": [
    "#### **Load the script**"
   ]
  },
  {
   "cell_type": "code",
   "execution_count": null,
   "metadata": {},
   "outputs": [],
   "source": [
    "%load scripts/binary_classification.py"
   ]
  }
 ],
 "metadata": {
  "kernelspec": {
   "display_name": "docker_ready",
   "language": "python",
   "name": "python3"
  },
  "language_info": {
   "codemirror_mode": {
    "name": "ipython",
    "version": 3
   },
   "file_extension": ".py",
   "mimetype": "text/x-python",
   "name": "python",
   "nbconvert_exporter": "python",
   "pygments_lexer": "ipython3",
   "version": "3.11.7"
  }
 },
 "nbformat": 4,
 "nbformat_minor": 2
}
