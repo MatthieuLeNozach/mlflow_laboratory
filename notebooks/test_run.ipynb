{
 "cells": [
  {
   "cell_type": "markdown",
   "metadata": {},
   "source": [
    "> ### **MLFLow-laboratory**\n",
    "> \n",
    "> \n",
    "> #### **a. Choose a model**\n",
    "> All scikit-learn models are available with one single import at `project_root/lib/models/sklearn.py`\n",
    "> ```py\n",
    "> # Import a model with:\n",
    "> from lib.models.sklearn import RandomForestClassifier\n",
    "> rfc = RandomForestClassifier()*\n",
    ">\n",
    "> # Or import all classes in a dict at once with:\n",
    "> from lib.models.sklearn import SKLEARN_CLASSIFIERS\n",
    "> # ... and instantiate them with:\n",
    "> rfc = SKLEARN_CLASSIFIERS['RandomForestClassisier'](bootstrap=True)\n",
    "> svc = SKLEARN_CLASSIFIERS['SVC']()\n",
    "> ```\n",
    "> #### **b. Select hyperparameters**\n",
    "> Automatic hyperparameter tuning is performed with Optuna library,\n",
    "> More information is available at [https://optuna.readthedocs.io/](https://optuna.readthedocs.io/en/stable/tutorial/index.html).  \n",
    "> \n",
    "> **WIP** An hyperparameter bank is being built, see at `project_root/lib/hp/...`\n",
    "> The goal is to store their name, a range if they are numerical or a list of choices.  \n",
    "> Here's an example:\n",
    "> ```py\n",
    "> # Hyperparameters for RandomForestClassifier\n",
    "> RFC_SPACE = {\n",
    ">     'classifier__n_estimators': (20, 200),\n",
    ">     'classifier__max_depth': (10, 100),\n",
    ">     'classifier__min_samples_split': (2, 20),\n",
    ">     'classifier__min_samples_leaf': (1, 2),\n",
    ">     'classifier__max_features': ['sqrt', 'log2', None],\n",
    ">     'classifier__criterion': ['gini', 'entropy'],\n",
    "> }\n",
    "> ```\n",
    "> Hyperparameter naming convention is `XXXC_SPACE` (ex `KNNC_SPACE`) for classification, / XXXR_SPACE (ex `RFR_SPACE`) for regression.  \n",
    "> \n",
    ">  Load hyperparameters:\n",
    "> ```bash\n",
    "> # Enable custom magics\n",
    "> %load_ext custom_magics\n",
    "> # load a set of hyperparameters\n",
    "> %load_variables ../lib/hp/sklearn.py RFC_SPACE\n",
    "> ```\n",
    "> #### **a. Retrieve scripts**\n",
    "> \n",
    "> Paste and execute one of these commands into a code cell to retrieve a mlflow script:\n",
    "> \n",
    "> **Classification**  \n",
    "> - Binary: `%load ../scripts/binary_classification.py`\n",
    "> \n",
    "> **Regression**  \n",
    "> - #TODO\n",
    "\n"
   ]
  },
  {
   "cell_type": "markdown",
   "metadata": {},
   "source": [
    "#### **Base config**"
   ]
  },
  {
   "cell_type": "code",
   "execution_count": 1,
   "metadata": {},
   "outputs": [],
   "source": [
    "DATASET_PATH = '../../2_DATASET_COLLECTION/churn.csv'\n"
   ]
  },
  {
   "cell_type": "code",
   "execution_count": 2,
   "metadata": {},
   "outputs": [],
   "source": [
    "# CONFIG\n",
    "import sys\n",
    "sys.path.append('..')"
   ]
  },
  {
   "cell_type": "markdown",
   "metadata": {},
   "source": [
    "#### **Load the model**"
   ]
  },
  {
   "cell_type": "code",
   "execution_count": 3,
   "metadata": {},
   "outputs": [],
   "source": [
    "# LOAD THE MODEL\n",
    "from lib.models.sklearn import SKLEARN_CLSSIFIERS\n",
    "clf = SKLEARN_CLSSIFIERS['GradientBoostingClassifier']()"
   ]
  },
  {
   "cell_type": "markdown",
   "metadata": {},
   "source": [
    "#### **Load hyperparameters**"
   ]
  },
  {
   "cell_type": "code",
   "execution_count": 4,
   "metadata": {},
   "outputs": [
    {
     "name": "stdout",
     "output_type": "stream",
     "text": [
      "The custom_magics module is not an IPython extension.\n"
     ]
    }
   ],
   "source": [
    "%load_ext custom_magics"
   ]
  },
  {
   "cell_type": "markdown",
   "metadata": {},
   "source": []
  },
  {
   "cell_type": "code",
   "execution_count": 5,
   "metadata": {},
   "outputs": [],
   "source": [
    "#%load_variables lib/hp/sklearn.py GBC_SPACE\n",
    "GBC_SPACE = {   'classifier__ccp_alpha': (0, 1),\n",
    "    'classifier__criterion': ['friedman_mse', 'squared_error'],\n",
    "    'classifier__learning_rate': (0.001, 1, 'log'),\n",
    "    'classifier__loss': ['log_loss', 'exponential'],\n",
    "    'classifier__max_depth': (2, 10),\n",
    "    'classifier__max_features': [None, 'sqrt', 'log2'],\n",
    "    'classifier__max_leaf_nodes': (2, 50),\n",
    "    'classifier__min_impurity_decrease': (0, 1),\n",
    "    'classifier__min_samples_leaf': (1, 20),\n",
    "    'classifier__min_samples_split': (2, 20),\n",
    "    'classifier__n_estimators': (50, 500),\n",
    "    'classifier__subsample': (0.5, 1)}\n"
   ]
  },
  {
   "cell_type": "markdown",
   "metadata": {},
   "source": [
    "#### **Load the script**"
   ]
  },
  {
   "cell_type": "code",
   "execution_count": 7,
   "metadata": {},
   "outputs": [
    {
     "name": "stderr",
     "output_type": "stream",
     "text": [
      "[I 2024-03-26 17:39:08,871] A new study created in memory with name: no-name-246f5b7c-c5e6-4e48-b585-f784af88649a\n"
     ]
    },
    {
     "name": "stdout",
     "output_type": "stream",
     "text": [
      "/home/mln/GIT/mlflow_laboratory/notebooks\n",
      "['custom_magics.py', 'template copy.ipynb', 'backup', '__pycache__', 'test_run..ipynb', 'template.ipynb']\n",
      "MINIO_ENDPOINT_URL: set\n",
      "MINIO_ACCESS_KEY: set\n",
      "MINIO_SECRET_KEY: set\n",
      "MLFLOW_TRACKING_URI: http://localhost:5000\n",
      "mlflow tracking URI has been set to  http://localhost:5000\n"
     ]
    },
    {
     "name": "stderr",
     "output_type": "stream",
     "text": [
      "[I 2024-03-26 17:39:09,324] Trial 0 finished with value: 0.0 and parameters: {'classifier__ccp_alpha': 0, 'classifier__criterion': 'squared_error', 'classifier__learning_rate': 0.159869835741585, 'classifier__loss': 'exponential', 'classifier__max_depth': 10, 'classifier__max_features': 'sqrt', 'classifier__max_leaf_nodes': 24, 'classifier__min_impurity_decrease': 1, 'classifier__min_samples_leaf': 13, 'classifier__min_samples_split': 2, 'classifier__n_estimators': 342, 'classifier__subsample': 0.9721967735944547}. Best is trial 0 with value: 0.0.\n",
      "[I 2024-03-26 17:39:10,116] Trial 1 finished with value: 0.0 and parameters: {'classifier__ccp_alpha': 1, 'classifier__criterion': 'friedman_mse', 'classifier__learning_rate': 0.9362020396921018, 'classifier__loss': 'log_loss', 'classifier__max_depth': 5, 'classifier__max_features': 'log2', 'classifier__max_leaf_nodes': 43, 'classifier__min_impurity_decrease': 0, 'classifier__min_samples_leaf': 9, 'classifier__min_samples_split': 18, 'classifier__n_estimators': 359, 'classifier__subsample': 0.5532614571361727}. Best is trial 0 with value: 0.0.\n",
      "[I 2024-03-26 17:39:10,680] Trial 2 finished with value: 0.0 and parameters: {'classifier__ccp_alpha': 1, 'classifier__criterion': 'squared_error', 'classifier__learning_rate': 0.6307107431737579, 'classifier__loss': 'log_loss', 'classifier__max_depth': 3, 'classifier__max_features': 'sqrt', 'classifier__max_leaf_nodes': 49, 'classifier__min_impurity_decrease': 0, 'classifier__min_samples_leaf': 11, 'classifier__min_samples_split': 3, 'classifier__n_estimators': 257, 'classifier__subsample': 0.9228584013594434}. Best is trial 0 with value: 0.0.\n",
      "[I 2024-03-26 17:39:17,180] Trial 3 finished with value: 0.0 and parameters: {'classifier__ccp_alpha': 1, 'classifier__criterion': 'squared_error', 'classifier__learning_rate': 0.6186545681924566, 'classifier__loss': 'log_loss', 'classifier__max_depth': 9, 'classifier__max_features': None, 'classifier__max_leaf_nodes': 25, 'classifier__min_impurity_decrease': 0, 'classifier__min_samples_leaf': 10, 'classifier__min_samples_split': 10, 'classifier__n_estimators': 486, 'classifier__subsample': 0.9744000794715594}. Best is trial 0 with value: 0.0.\n",
      "[I 2024-03-26 17:39:17,566] Trial 4 finished with value: 0.0 and parameters: {'classifier__ccp_alpha': 1, 'classifier__criterion': 'friedman_mse', 'classifier__learning_rate': 0.054704566461370174, 'classifier__loss': 'log_loss', 'classifier__max_depth': 2, 'classifier__max_features': 'log2', 'classifier__max_leaf_nodes': 15, 'classifier__min_impurity_decrease': 0, 'classifier__min_samples_leaf': 9, 'classifier__min_samples_split': 2, 'classifier__n_estimators': 262, 'classifier__subsample': 0.6070927433234681}. Best is trial 0 with value: 0.0.\n",
      "[I 2024-03-26 17:39:17,954] Trial 5 finished with value: 0.0 and parameters: {'classifier__ccp_alpha': 1, 'classifier__criterion': 'squared_error', 'classifier__learning_rate': 0.005684689380114931, 'classifier__loss': 'exponential', 'classifier__max_depth': 4, 'classifier__max_features': 'log2', 'classifier__max_leaf_nodes': 34, 'classifier__min_impurity_decrease': 1, 'classifier__min_samples_leaf': 9, 'classifier__min_samples_split': 10, 'classifier__n_estimators': 355, 'classifier__subsample': 0.7394692820460494}. Best is trial 0 with value: 0.0.\n",
      "[I 2024-03-26 17:39:20,161] Trial 6 finished with value: 0.0 and parameters: {'classifier__ccp_alpha': 1, 'classifier__criterion': 'squared_error', 'classifier__learning_rate': 0.005903066896955897, 'classifier__loss': 'exponential', 'classifier__max_depth': 5, 'classifier__max_features': None, 'classifier__max_leaf_nodes': 23, 'classifier__min_impurity_decrease': 0, 'classifier__min_samples_leaf': 3, 'classifier__min_samples_split': 3, 'classifier__n_estimators': 233, 'classifier__subsample': 0.7432141729789042}. Best is trial 0 with value: 0.0.\n",
      "[I 2024-03-26 17:39:24,900] Trial 7 finished with value: 0.0 and parameters: {'classifier__ccp_alpha': 1, 'classifier__criterion': 'friedman_mse', 'classifier__learning_rate': 0.036521991086496786, 'classifier__loss': 'exponential', 'classifier__max_depth': 6, 'classifier__max_features': None, 'classifier__max_leaf_nodes': 35, 'classifier__min_impurity_decrease': 1, 'classifier__min_samples_leaf': 12, 'classifier__min_samples_split': 9, 'classifier__n_estimators': 382, 'classifier__subsample': 0.8878007241649957}. Best is trial 0 with value: 0.0.\n",
      "[I 2024-03-26 17:39:25,138] Trial 8 finished with value: 0.0 and parameters: {'classifier__ccp_alpha': 1, 'classifier__criterion': 'squared_error', 'classifier__learning_rate': 0.9828906531721061, 'classifier__loss': 'exponential', 'classifier__max_depth': 8, 'classifier__max_features': 'log2', 'classifier__max_leaf_nodes': 42, 'classifier__min_impurity_decrease': 1, 'classifier__min_samples_leaf': 8, 'classifier__min_samples_split': 11, 'classifier__n_estimators': 191, 'classifier__subsample': 0.8574443883597929}. Best is trial 0 with value: 0.0.\n",
      "[I 2024-03-26 17:39:26,043] Trial 9 finished with value: 0.6063348416289592 and parameters: {'classifier__ccp_alpha': 0, 'classifier__criterion': 'friedman_mse', 'classifier__learning_rate': 0.06305975347877607, 'classifier__loss': 'log_loss', 'classifier__max_depth': 2, 'classifier__max_features': 'log2', 'classifier__max_leaf_nodes': 24, 'classifier__min_impurity_decrease': 0, 'classifier__min_samples_leaf': 16, 'classifier__min_samples_split': 6, 'classifier__n_estimators': 500, 'classifier__subsample': 0.996667272681368}. Best is trial 9 with value: 0.6063348416289592.\n",
      "[I 2024-03-26 17:39:26,211] Trial 10 finished with value: 0.0 and parameters: {'classifier__ccp_alpha': 0, 'classifier__criterion': 'friedman_mse', 'classifier__learning_rate': 0.0020401753523571165, 'classifier__loss': 'log_loss', 'classifier__max_depth': 2, 'classifier__max_features': 'log2', 'classifier__max_leaf_nodes': 7, 'classifier__min_impurity_decrease': 0, 'classifier__min_samples_leaf': 20, 'classifier__min_samples_split': 17, 'classifier__n_estimators': 74, 'classifier__subsample': 0.6463737378301848}. Best is trial 9 with value: 0.6063348416289592.\n"
     ]
    },
    {
     "name": "stdout",
     "output_type": "stream",
     "text": [
      "Initial trial 9 achieved value: 0.6063348416289592\n"
     ]
    },
    {
     "name": "stderr",
     "output_type": "stream",
     "text": [
      "[I 2024-03-26 17:39:26,941] Trial 11 finished with value: 0.6021180030257186 and parameters: {'classifier__ccp_alpha': 0, 'classifier__criterion': 'friedman_mse', 'classifier__learning_rate': 0.1298584152446308, 'classifier__loss': 'exponential', 'classifier__max_depth': 10, 'classifier__max_features': 'sqrt', 'classifier__max_leaf_nodes': 16, 'classifier__min_impurity_decrease': 1, 'classifier__min_samples_leaf': 17, 'classifier__min_samples_split': 6, 'classifier__n_estimators': 476, 'classifier__subsample': 0.9890805823575998}. Best is trial 9 with value: 0.6063348416289592.\n",
      "[I 2024-03-26 17:39:27,575] Trial 12 finished with value: 0.60790273556231 and parameters: {'classifier__ccp_alpha': 0, 'classifier__criterion': 'friedman_mse', 'classifier__learning_rate': 0.13555982115321877, 'classifier__loss': 'log_loss', 'classifier__max_depth': 7, 'classifier__max_features': 'sqrt', 'classifier__max_leaf_nodes': 13, 'classifier__min_impurity_decrease': 1, 'classifier__min_samples_leaf': 18, 'classifier__min_samples_split': 6, 'classifier__n_estimators': 489, 'classifier__subsample': 0.8258255786741988}. Best is trial 12 with value: 0.60790273556231.\n"
     ]
    },
    {
     "name": "stdout",
     "output_type": "stream",
     "text": [
      "Trial 12 achieved value: 0.60790273556231 with  0.2579% improvement\n"
     ]
    },
    {
     "name": "stderr",
     "output_type": "stream",
     "text": [
      "[I 2024-03-26 17:39:28,125] Trial 13 finished with value: 0.593167701863354 and parameters: {'classifier__ccp_alpha': 0, 'classifier__criterion': 'friedman_mse', 'classifier__learning_rate': 0.18802493917584895, 'classifier__loss': 'log_loss', 'classifier__max_depth': 7, 'classifier__max_features': 'sqrt', 'classifier__max_leaf_nodes': 11, 'classifier__min_impurity_decrease': 1, 'classifier__min_samples_leaf': 16, 'classifier__min_samples_split': 6, 'classifier__n_estimators': 439, 'classifier__subsample': 0.814844491301611}. Best is trial 12 with value: 0.60790273556231.\n",
      "[I 2024-03-26 17:39:28,836] Trial 14 finished with value: 0.30612244897959184 and parameters: {'classifier__ccp_alpha': 0, 'classifier__criterion': 'friedman_mse', 'classifier__learning_rate': 0.014149359865314376, 'classifier__loss': 'log_loss', 'classifier__max_depth': 7, 'classifier__max_features': 'sqrt', 'classifier__max_leaf_nodes': 2, 'classifier__min_impurity_decrease': 0, 'classifier__min_samples_leaf': 20, 'classifier__min_samples_split': 15, 'classifier__n_estimators': 424, 'classifier__subsample': 0.8040045280693638}. Best is trial 12 with value: 0.60790273556231.\n",
      "[I 2024-03-26 17:39:29,491] Trial 15 finished with value: 0.5941807044410413 and parameters: {'classifier__ccp_alpha': 0, 'classifier__criterion': 'friedman_mse', 'classifier__learning_rate': 0.0682987391450169, 'classifier__loss': 'log_loss', 'classifier__max_depth': 4, 'classifier__max_features': 'log2', 'classifier__max_leaf_nodes': 16, 'classifier__min_impurity_decrease': 1, 'classifier__min_samples_leaf': 16, 'classifier__min_samples_split': 7, 'classifier__n_estimators': 495, 'classifier__subsample': 0.6760419592246203}. Best is trial 12 with value: 0.60790273556231.\n",
      "[I 2024-03-26 17:39:31,185] Trial 16 finished with value: 0.5996955859969558 and parameters: {'classifier__ccp_alpha': 0, 'classifier__criterion': 'friedman_mse', 'classifier__learning_rate': 0.015483088629438533, 'classifier__loss': 'log_loss', 'classifier__max_depth': 7, 'classifier__max_features': 'sqrt', 'classifier__max_leaf_nodes': 31, 'classifier__min_impurity_decrease': 0, 'classifier__min_samples_leaf': 14, 'classifier__min_samples_split': 13, 'classifier__n_estimators': 418, 'classifier__subsample': 0.8135547065318434}. Best is trial 12 with value: 0.60790273556231.\n",
      "[I 2024-03-26 17:39:31,352] Trial 17 finished with value: 0.5932721712538226 and parameters: {'classifier__ccp_alpha': 0, 'classifier__criterion': 'friedman_mse', 'classifier__learning_rate': 0.29472394597863993, 'classifier__loss': 'log_loss', 'classifier__max_depth': 8, 'classifier__max_features': 'log2', 'classifier__max_leaf_nodes': 20, 'classifier__min_impurity_decrease': 1, 'classifier__min_samples_leaf': 18, 'classifier__min_samples_split': 5, 'classifier__n_estimators': 91, 'classifier__subsample': 0.500339119669186}. Best is trial 12 with value: 0.60790273556231.\n",
      "[I 2024-03-26 17:39:32,303] Trial 18 finished with value: 0.586046511627907 and parameters: {'classifier__ccp_alpha': 0, 'classifier__criterion': 'friedman_mse', 'classifier__learning_rate': 0.019620108428533123, 'classifier__loss': 'log_loss', 'classifier__max_depth': 6, 'classifier__max_features': 'sqrt', 'classifier__max_leaf_nodes': 9, 'classifier__min_impurity_decrease': 0, 'classifier__min_samples_leaf': 4, 'classifier__min_samples_split': 20, 'classifier__n_estimators': 312, 'classifier__subsample': 0.9287311666178151}. Best is trial 12 with value: 0.60790273556231.\n",
      "[I 2024-03-26 17:39:33,188] Trial 19 finished with value: 0.5820433436532507 and parameters: {'classifier__ccp_alpha': 0, 'classifier__criterion': 'friedman_mse', 'classifier__learning_rate': 0.07520359471923094, 'classifier__loss': 'log_loss', 'classifier__max_depth': 3, 'classifier__max_features': None, 'classifier__max_leaf_nodes': 30, 'classifier__min_impurity_decrease': 1, 'classifier__min_samples_leaf': 14, 'classifier__min_samples_split': 8, 'classifier__n_estimators': 178, 'classifier__subsample': 0.8727365833378237}. Best is trial 12 with value: 0.60790273556231.\n",
      "[I 2024-03-26 17:39:33,989] Trial 20 finished with value: 0.6079295154185022 and parameters: {'classifier__ccp_alpha': 0, 'classifier__criterion': 'friedman_mse', 'classifier__learning_rate': 0.2627256721974651, 'classifier__loss': 'log_loss', 'classifier__max_depth': 5, 'classifier__max_features': 'log2', 'classifier__max_leaf_nodes': 3, 'classifier__min_impurity_decrease': 0, 'classifier__min_samples_leaf': 18, 'classifier__min_samples_split': 4, 'classifier__n_estimators': 451, 'classifier__subsample': 0.6920661154021}. Best is trial 20 with value: 0.6079295154185022.\n"
     ]
    },
    {
     "name": "stdout",
     "output_type": "stream",
     "text": [
      "Trial 20 achieved value: 0.6079295154185022 with  0.0044% improvement\n"
     ]
    },
    {
     "name": "stderr",
     "output_type": "stream",
     "text": [
      "[I 2024-03-26 17:39:34,754] Trial 21 finished with value: 0.5915080527086384 and parameters: {'classifier__ccp_alpha': 0, 'classifier__criterion': 'friedman_mse', 'classifier__learning_rate': 0.3454955943053342, 'classifier__loss': 'log_loss', 'classifier__max_depth': 5, 'classifier__max_features': 'log2', 'classifier__max_leaf_nodes': 3, 'classifier__min_impurity_decrease': 0, 'classifier__min_samples_leaf': 18, 'classifier__min_samples_split': 4, 'classifier__n_estimators': 440, 'classifier__subsample': 0.6738023084309211}. Best is trial 20 with value: 0.6079295154185022.\n",
      "[I 2024-03-26 17:39:35,791] Trial 22 finished with value: 0.6 and parameters: {'classifier__ccp_alpha': 0, 'classifier__criterion': 'friedman_mse', 'classifier__learning_rate': 0.10248145604714531, 'classifier__loss': 'log_loss', 'classifier__max_depth': 6, 'classifier__max_features': 'log2', 'classifier__max_leaf_nodes': 7, 'classifier__min_impurity_decrease': 0, 'classifier__min_samples_leaf': 19, 'classifier__min_samples_split': 5, 'classifier__n_estimators': 453, 'classifier__subsample': 0.7175439182653403}. Best is trial 20 with value: 0.6079295154185022.\n",
      "[I 2024-03-26 17:39:36,772] Trial 23 finished with value: 0.5944444444444444 and parameters: {'classifier__ccp_alpha': 0, 'classifier__criterion': 'friedman_mse', 'classifier__learning_rate': 0.28989560490769845, 'classifier__loss': 'log_loss', 'classifier__max_depth': 3, 'classifier__max_features': 'log2', 'classifier__max_leaf_nodes': 12, 'classifier__min_impurity_decrease': 0, 'classifier__min_samples_leaf': 15, 'classifier__min_samples_split': 7, 'classifier__n_estimators': 500, 'classifier__subsample': 0.6009873908784823}. Best is trial 20 with value: 0.6079295154185022.\n",
      "[I 2024-03-26 17:39:38,179] Trial 24 finished with value: 0.604992657856094 and parameters: {'classifier__ccp_alpha': 0, 'classifier__criterion': 'friedman_mse', 'classifier__learning_rate': 0.04574006019021919, 'classifier__loss': 'log_loss', 'classifier__max_depth': 8, 'classifier__max_features': 'log2', 'classifier__max_leaf_nodes': 20, 'classifier__min_impurity_decrease': 0, 'classifier__min_samples_leaf': 18, 'classifier__min_samples_split': 13, 'classifier__n_estimators': 400, 'classifier__subsample': 0.7905363083484915}. Best is trial 20 with value: 0.6079295154185022.\n",
      "[I 2024-03-26 17:39:39,133] Trial 25 finished with value: 0.6024096385542169 and parameters: {'classifier__ccp_alpha': 0, 'classifier__criterion': 'friedman_mse', 'classifier__learning_rate': 0.02873694362281987, 'classifier__loss': 'log_loss', 'classifier__max_depth': 4, 'classifier__max_features': 'sqrt', 'classifier__max_leaf_nodes': 5, 'classifier__min_impurity_decrease': 0, 'classifier__min_samples_leaf': 16, 'classifier__min_samples_split': 8, 'classifier__n_estimators': 459, 'classifier__subsample': 0.696162035244603}. Best is trial 20 with value: 0.6079295154185022.\n",
      "[I 2024-03-26 17:39:39,563] Trial 26 finished with value: 0.5771604938271605 and parameters: {'classifier__ccp_alpha': 0, 'classifier__criterion': 'friedman_mse', 'classifier__learning_rate': 0.18276695020265457, 'classifier__loss': 'log_loss', 'classifier__max_depth': 2, 'classifier__max_features': 'log2', 'classifier__max_leaf_nodes': 20, 'classifier__min_impurity_decrease': 1, 'classifier__min_samples_leaf': 20, 'classifier__min_samples_split': 4, 'classifier__n_estimators': 321, 'classifier__subsample': 0.9260503258975521}. Best is trial 20 with value: 0.6079295154185022.\n",
      "[I 2024-03-26 17:39:40,714] Trial 27 finished with value: 0.6061493411420205 and parameters: {'classifier__ccp_alpha': 0, 'classifier__criterion': 'friedman_mse', 'classifier__learning_rate': 0.08796245360672372, 'classifier__loss': 'log_loss', 'classifier__max_depth': 9, 'classifier__max_features': 'log2', 'classifier__max_leaf_nodes': 14, 'classifier__min_impurity_decrease': 0, 'classifier__min_samples_leaf': 6, 'classifier__min_samples_split': 5, 'classifier__n_estimators': 405, 'classifier__subsample': 0.7742064013879628}. Best is trial 20 with value: 0.6079295154185022.\n",
      "[I 2024-03-26 17:39:42,098] Trial 28 finished with value: 0.6024096385542169 and parameters: {'classifier__ccp_alpha': 0, 'classifier__criterion': 'friedman_mse', 'classifier__learning_rate': 0.4640867644427344, 'classifier__loss': 'log_loss', 'classifier__max_depth': 5, 'classifier__max_features': None, 'classifier__max_leaf_nodes': 29, 'classifier__min_impurity_decrease': 1, 'classifier__min_samples_leaf': 17, 'classifier__min_samples_split': 8, 'classifier__n_estimators': 460, 'classifier__subsample': 0.8526441659095044}. Best is trial 20 with value: 0.6079295154185022.\n",
      "[I 2024-03-26 17:39:43,148] Trial 29 finished with value: 0.6099706744868035 and parameters: {'classifier__ccp_alpha': 0, 'classifier__criterion': 'squared_error', 'classifier__learning_rate': 0.15954636778473621, 'classifier__loss': 'exponential', 'classifier__max_depth': 7, 'classifier__max_features': 'sqrt', 'classifier__max_leaf_nodes': 10, 'classifier__min_impurity_decrease': 0, 'classifier__min_samples_leaf': 13, 'classifier__min_samples_split': 2, 'classifier__n_estimators': 374, 'classifier__subsample': 0.943749154226001}. Best is trial 29 with value: 0.6099706744868035.\n"
     ]
    },
    {
     "name": "stdout",
     "output_type": "stream",
     "text": [
      "Trial 29 achieved value: 0.6099706744868035 with  0.3346% improvement\n",
      "BEST PARAMS FROM main():  {'classifier__ccp_alpha': 0, 'classifier__criterion': 'squared_error', 'classifier__learning_rate': 0.15954636778473621, 'classifier__loss': 'exponential', 'classifier__max_depth': 7, 'classifier__max_features': 'sqrt', 'classifier__max_leaf_nodes': 10, 'classifier__min_impurity_decrease': 0, 'classifier__min_samples_leaf': 13, 'classifier__min_samples_split': 2, 'classifier__n_estimators': 374, 'classifier__subsample': 0.943749154226001}\n"
     ]
    }
   ],
   "source": [
    "# %load ../scripts/binary_classification.py\n",
    "# file: binary_classification.py\n",
    "\n",
    "# FIND REGULAR IMPORTS IN laboratory/config.py\n",
    "from laboratory.config import *\n",
    "from laboratory.mlflow import get_or_create_experiment, set_mlflow_tracking_uri_from_env\n",
    "\n",
    "handle_warnings()\n",
    "env_vars = get_environment()\n",
    "set_mlflow_tracking_uri_from_env(env_vars)\n",
    "\n",
    "# Custom modules\n",
    "import laboratory.dataset as dataset\n",
    "import laboratory.sklearn as sklearn\n",
    "import laboratory.tuning as tuning\n",
    "from laboratory.mlflow import get_run_name\n",
    "from laboratory.artifacts import log_confusion_matrix, log_roc_curve\n",
    "from lib.models.sklearn import RandomForestClassifier\n",
    "\n",
    "#################### SETUP ####################\n",
    "\n",
    "DATASET_PATH = DATASET_PATH # Placeholder \n",
    "DF = pd.read_csv(DATASET_PATH)\n",
    "TARGET_NAME = 'Exited'\n",
    "FEATURES_TO_DROP = ['CustomerId', 'Surname']\n",
    "DATASET_SPLIT_PARAMS = {'test_size': 0.2, 'stratify': DF[TARGET_NAME], 'random_state': 42}\n",
    "\n",
    "CLASSIFIER = clf\n",
    "SPACE = GBC_SPACE \n",
    "SAVE_MODEL = False\n",
    "\n",
    "OPTUNA_STUDY_TRIALS = 30\n",
    "OPTUNA_METRIC_TO_MAXIMIZE = 'test_f1_score'\n",
    "\n",
    "\n",
    "EXPERIMENT_NAME = DATASET_PATH.split('/')[-1]\n",
    "RUN_NAME = get_run_name(run_name=None)\n",
    "\n",
    "\n",
    "#################### MAIN ####################\n",
    "\n",
    "if __name__ == '__main__':\n",
    "    df = DF.copy()\n",
    "    df = df.drop(columns=FEATURES_TO_DROP)    \n",
    "    \n",
    "    X_train, X_test, y_train, y_test = train_test_split(\n",
    "        df.drop(columns=TARGET_NAME), df[TARGET_NAME], **DATASET_SPLIT_PARAMS\n",
    "    )\n",
    "    \n",
    "    num_features = X_train.select_dtypes([np.number]).columns.tolist()\n",
    "    cat_features = X_train.columns.difference(num_features).tolist()\n",
    "\n",
    "    PREPROCESSING_PIPELINE = ColumnTransformer(\n",
    "        transformers=[\n",
    "            ('numerical', Pipeline([\n",
    "                ('imputer', SimpleImputer(strategy='median')),\n",
    "                ('scaler', StandardScaler())\n",
    "            ]), num_features),\n",
    "            ('categorical', Pipeline([\n",
    "                ('imputer', SimpleImputer(strategy='most_frequent')),\n",
    "                ('onehot', OneHotEncoder())\n",
    "            ]), cat_features)\n",
    "        ]\n",
    "    )\n",
    "\n",
    "    BINARY_CLASSIFICATION_PIPELINE = Pipeline(steps=[\n",
    "        ('preprocessing', PREPROCESSING_PIPELINE),\n",
    "        ('classifier', CLASSIFIER)\n",
    "    ])\n",
    "\n",
    "    experiment_id = get_or_create_experiment(EXPERIMENT_NAME)\n",
    "    \n",
    "    with mlflow.start_run(run_name=RUN_NAME):\n",
    "        # Create an Optuna study\n",
    "        study = optuna.create_study(direction='maximize')\n",
    "\n",
    "        # Optimize the objective function\n",
    "        study.optimize(\n",
    "            partial(\n",
    "                tuning.objective_function,\n",
    "                X_train=X_train,\n",
    "                X_test=X_test,\n",
    "                y_train=y_train,\n",
    "                y_test=y_test,\n",
    "                pipeline=BINARY_CLASSIFICATION_PIPELINE,\n",
    "                param_space=SPACE,\n",
    "                metric_to_maximize=OPTUNA_METRIC_TO_MAXIMIZE\n",
    "            ),\n",
    "            n_trials=OPTUNA_STUDY_TRIALS,\n",
    "            callbacks=[tuning.champion_callback]\n",
    "        )\n",
    "\n",
    "        best_params = study.best_params\n",
    "        print(\"BEST PARAMS FROM main(): \", best_params)\n",
    "\n",
    "        BINARY_CLASSIFICATION_PIPELINE.set_params(**best_params)\n",
    "        BINARY_CLASSIFICATION_PIPELINE.fit(X_train, y_train)\n",
    "        y_pred = BINARY_CLASSIFICATION_PIPELINE.predict(X_test)\n",
    "        y_pred_proba = BINARY_CLASSIFICATION_PIPELINE.predict_proba(X_test)\n",
    "\n",
    "        metrics = tuning.get_classification_metrics(y_test, y_pred, y_pred_proba, prefix='best_model_test')\n",
    "        log_confusion_matrix(y_test, y_pred)\n",
    "        log_roc_curve(y_test, y_pred_proba)\n",
    "\n",
    "        mlflow.log_params(best_params)\n",
    "        mlflow.log_metrics(metrics)\n",
    "        if SAVE_MODEL:\n",
    "            mlflow.sklearn.log_model(sklearn, \"best_model\")"
   ]
  }
 ],
 "metadata": {
  "kernelspec": {
   "display_name": "docker_ready",
   "language": "python",
   "name": "python3"
  },
  "language_info": {
   "codemirror_mode": {
    "name": "ipython",
    "version": 3
   },
   "file_extension": ".py",
   "mimetype": "text/x-python",
   "name": "python",
   "nbconvert_exporter": "python",
   "pygments_lexer": "ipython3",
   "version": "3.11.7"
  }
 },
 "nbformat": 4,
 "nbformat_minor": 2
}
